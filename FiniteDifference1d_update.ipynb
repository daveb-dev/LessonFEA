{
 "cells": [
  {
   "cell_type": "markdown",
   "id": "53cbb0ce-423e-4b63-8653-6fb9bb473cbf",
   "metadata": {},
   "source": [
    "## Finite Difference Method for linear partial differential equation"
   ]
  },
  {
   "cell_type": "markdown",
   "id": "394d9998-11b6-46af-bc9a-c7eec73ad155",
   "metadata": {
    "tags": []
   },
   "source": [
    "$\\newcommand{\\R}{\\mathbb{R}}}$\n",
    "$\\newcommand{\\L}{\\mathcal{L}}}$\n",
    "$\\newcommand{\\dert}[1]{\\frac{\\partial #1}{\\partial t}}$\n",
    "$\\newcommand{\\derx}[1]{\\frac{\\partial #1}{\\partial x}}$\n",
    "$\\newcommand{\\derf}[2]{\\frac{\\partial #1}{\\partial #2}}$\n",
    "$\\newcommand{\\derxx}[1]{\\frac{\\partial^2 #1}{\\partial x^2}}$\n",
    "$\\newcommand{\\derk}[2]{\\frac{\\partial^2 #1}{\\partial {#2}^2}}$\n",
    "$\\newcommand{\\derm}[3]{\\frac{\\partial^2 #1}{\\partial {#2} \\partial {#3}}}$\n",
    "\n",
    "```"
   ]
  },
  {
   "cell_type": "markdown",
   "id": "b5bb4069-0bbd-4e3b-afab-4199858b3b51",
   "metadata": {
    "tags": []
   },
   "source": [
    "# Classification of Partial differential equation\n",
    "Let assume $x,y,\\ldots$ are indipendent variables. There is a dependent variable that is an unknown function\n",
    "of the variable $u(x,y,\\ldots)$. A PDE is an identity that relates the indipendent variable,\n",
    "the  dependent variable $u$ and the partial derivatives of $u$. It can be expressed by\n",
    "\n",
    "$$F(x,y,t, u(x,y,t), \\dert{u},\\derx{u},\\derxx{u},\\derk{u}{y},\\derm{u}{x}{y}=0$$\n",
    "\n",
    "The order of an equation is the highest derivative that appears.\n",
    "Linearity. Let written the equation in form of operator $\\L u=0$. Let $v$ is any function, then $\\mathcal{L} v$ is function. The definition of linearity is \n",
    "$$\\mathcal{L}(u+v)= \\L u+ \\mathcal{L} v $$\n",
    "$$\\L(\\alpha\\cdot v)=\\alpha \\L v $$\n",
    "for any function $u,v$ and constant $\\alpha$.\n",
    "If the rhs is null then the equation is called homogeneous.\n",
    "Whereas if $\\L u=g$ with $g$ not null then equation is call inhomogeneous."
   ]
  },
  {
   "cell_type": "markdown",
   "id": "eb9c6c1f-a077-420d-88bc-318dbee38d50",
   "metadata": {},
   "source": [
    "#### Example of  equations:\n",
    "\n",
    "+ Transport equation (linear and 1st order) $$\\derf{u}{t}+ \\beta \\cdot \\nabla u = f$$\n",
    "+ Diffusion or heat equation, (second order and linear equation)\n",
    "    $$\\derf{u}{t} - \\beta \\nabla^2 u = f$$\n",
    "    where $\\nabla^2=\\Delta$ is the Laplace operator (sum of 2nd derivative and \n",
    "                                                     not mixed).\n",
    "+ Wave equation (2nd order)\n",
    "    $$ \\derk{u}{t} - c^2 \\Delta u = 0 $$\n",
    "+ Laplace or potentential equation (second order)\n",
    "    $$\\Delta u =0 $$\n",
    "+ Black Scholes equation (second order)\n",
    "   $$\\derf{u}{t} + 0.5 * \\sigma^2 x^2  \\derk{u}{x} +r x \\derx{u} - ru =0 $$\n",
    "   evolution of the price $u$ of derivative (e.g. European option) based on\n",
    "   underlying asset (stock) whose price is $x$\n",
    "+ Vibrating plate (4th order)\n",
    "$$   \\derk{u}{t} -\\Delta^2 u =0 $$\n",
    "where $$\\Delta^2 = \\frac{\\partial^4 u}{\\partial x_1^4} + 2 \n",
    "\\frac{\\partial^4 u}{\\partial x_1^2 \\partial x_2^2 }+ \n",
    "= \\frac{\\partial^4 u}{\\partial x_2^4}$$\n",
    "It is used also as biharmomic operator in Fluid structure interaction.\n",
    "+ Burger's equation quasilinear first order\n",
    "   $$ \\derf{u}{t} + c u \\derf{u}{x} =0 $$\n",
    "   it models the 1d flux of non viscous fluid. Its variation model the \n",
    "   traffic dynamics\n",
    "   $$ \\derf{u}{t} + c u \\derf{u}{x} =  \\alpha \\derk{u}{x} $$\n",
    "   $\\alpha>0$.\n",
    "   Dissipation part is the address by rhs term where as the common term\n",
    "   with Burger's equation govern the shock formation.\n",
    "+ Porous media equation (quasilinear and 2nd order)\n",
    "   $$\\rho \\derf{u}{t} = k \\nabla \\cdot (u^{\\gamma} \\nabla u) $$\n",
    "   where $k$ is permeability, $\\rho$ density and $\\gamma>1$.\n",
    "   This equation has been use for filtration phenomena, percolation (\n",
    "   PFAS model).\n",
    "+ Minimal surface equation (quasilinear, second order) soap bubble model\n",
    "   $$\\nabla \\cdot (\\frac{\\nabla}{\\sqrt{1+|\\nabla u|^2}}=0$$\n",
    "   Graph of the solution $u$ minimize the area amon all surface $z=v(x,y)$\n",
    "   whose boundary is a given curve.\n",
    "+ Eikonal equation (fully non linear, first order). It appears in \n",
    "cardiovascular simulation for the electric potential and in optics. \n",
    "  $$|\\nabla u | = c(x) $$\n",
    "+ Navier equation of linear elasticity  (System of PDE, three 2nd order scalar\n",
    "equation )\n",
    "  $$ \\derk{u}{t}= \\mu \\Delta u + (\\mu+\\lambda) \\nabla \\nabla \\cdot u $$\n",
    "+ Navier Stokes ( 3 quasilinear scalar equation and 1 linear first order)\n",
    "  $$ \\derf{u}{t} +(u \\cdot \\nabla)u = -\\frac{1}{\\rho} \\nabla p + \\nu \n",
    "  \\Delta u $$\n",
    "  $$ \\nabla \\cdot u =0 $$\n",
    "  The term $(u \\cdot \\nabla)u$ represent the inertial accelaration due\n",
    "  to fluid trasport."
   ]
  },
  {
   "cell_type": "markdown",
   "id": "67e03330-6263-4711-bb40-46ce8afcd7a4",
   "metadata": {},
   "source": [
    "## Boundary condition definition"
   ]
  },
  {
   "cell_type": "markdown",
   "id": "9a78c32b-e1ce-4b52-98a4-18739b7cba35",
   "metadata": {},
   "source": [
    "In physical problem, it is necessary to specify some boundary condition to determine the solution. The most used boundary condition are\n",
    "+  Dirichlet condition  u is specified at boundary\n",
    "+  Neumann condition the normal derivative $\\derf{u}{n}$ is specified \n",
    "+  Robin condition $\\derf{u}{n} + \\beta u$"
   ]
  },
  {
   "cell_type": "markdown",
   "id": "71d218a2-20d7-4aff-b3e9-8dcc34a13619",
   "metadata": {},
   "source": [
    "## Partial differential equation classification"
   ]
  },
  {
   "cell_type": "markdown",
   "id": "868935f9-df6d-4fd3-aa17-21935ea53f84",
   "metadata": {},
   "source": [
    "PDE can be classified in three families eliptic, parabolic and hyperbolic.\n",
    "Let limiting to 2nd order linear with constant coefficient\n",
    "$$L u = A \\derf{u}{x} + B \\frac{\\partial^2 u}{\\partial x \\partial y }\n",
    "  + C  \\derf{u}{y} + (D,E) \\cdot \\nabla u + F u = G $$\n",
    "The discrimant is $\\Delta = B\\cdot B - 4 AC $, then\n",
    "\n",
    "+ $\\Delta<0$ equation is defined elliptic\n",
    "+ $\\Delta=0$ equation is defined parabolic\n",
    "+ $\\Delta>0$ equation is defined hyperbolic\n",
    "\n",
    "Among example above, we could prove that (exercise)\n",
    "+ wave equation is hyperbolic\n",
    "+ potential equation is elliptic\n",
    "+ heat equation is parabolic"
   ]
  },
  {
   "cell_type": "markdown",
   "id": "15471d50-7e9c-4498-9c4b-ed73ad9ea27a",
   "metadata": {},
   "source": [
    "## Diffusion Equation\n",
    "Let consider a motionless liquid filling a straight pipe, and a chemical contaminant which is diffusing through the liquid. In this setting, we focus on motion of contaminant (diffusion), whereas if we model the motion of liquid (convection-trasport). \n",
    "The contaminant moves from region of higher concetration to region of lower concetration.\n",
    "Fick's law of diffusion states rate of motion is proportional to the concetration gradient.\n",
    "Let $u(x,t)$ the concentration (mass per unit length) of the cominantant at position $x$ of the pipe at time $t$.\n",
    "In the section of pipe from $a$ to $b$ the mass of contaminat is defined by \n",
    "$$ mass(t) = \\int_{a}^{b} u(x,t) dt $$\n",
    "$$\\derf{mass(t)}{t} =\\int_{a}^{b} \\derf{u(x,t)}{t} dt  $$\n",
    "The mass in this section of domain can not change except by exiting or entering in the pipe (inflow and outflow). Applying the Fick Law\n",
    "$$\\derf{mass(t)}{t} = \\mathrm{flow in} - \\mathrm{flow out} = k\\derf{u}{x}(a,t) -k\\derf{u}{x}(b,t) $$\n",
    "where $k$ is constant. Combining the expression above we obtain\n",
    "$$ \\int_{a}^{b} \\derf{u(x,t)}{t} dt = k\\derf{u}{x}(a,t) -k\\derf{u}{x}(b,t) $$\n",
    "Now if we differentiate respect to $x$ we get \n",
    "$$\\dert{u}= a\\cdot \\derxx{u}$$"
   ]
  },
  {
   "cell_type": "markdown",
   "id": "768aa7e5-bcf9-4f76-a0c6-fb3f984d9e33",
   "metadata": {},
   "source": [
    "#### How we could solve analytically the 1d diffusion equation?\n",
    "Steady state solution is \n",
    "$$u_0 + (u_1-u_0)\\frac{x}{L}$$\n",
    "\n",
    "Method of separation of variable, since the equation is linear\n",
    "we can use superposition principle and find a particular solution\n",
    "$$ u(x,t) = w(x) v(t) $$\n",
    "1. 1st step consist in replace it in the PDE so we get\n",
    "$$ \\derk{w}(x) - \\lambda w(x) =0 $$\n",
    "we can assume that w(0)=w(1)=0 and \n",
    "$$ \\derk{v}(t) - \\lambda v(t) =0 $$\n",
    "2. 2nd step solving the first equation with dirichlet Boundary condition\n",
    "lead to following cases\n",
    "+ $\\lambda =0 $ then $w(x) = A + B x$, following the condition we get $A=B=0$\n",
    "+ $\\lambda >0 $, let $\\lambda= \\mu^2>0$ then $w(x)= A e^{-\\mu x}+ B e^{\\mu x}$,  following the condition we get $A=B=0$\n",
    "+ $\\lambda <0 $, let $\\lambda=- \\mu^2<0$ then $w(x)= A \\sin(\\mu x)+ B \\cos(\\mu x)$, \n",
    "if $w(0)=B=0$, $w(1)= A \\sin \\mu B \\cos\\mu=0$ so $A$ is arbitrary and $\\mu_m= m \\pi$.\n",
    "the non trivial solution is $w_m(x)= A sin(m \\pi x)$\n",
    "With $\\lambda = -\\mu^2_m$ in the other equation involving time, we get the general solution as $v_m(t)= C e^{-m^2 \\pi^2 t}$\n",
    "It follows that the solution of equation with Dirichlet homogenous BC can be written as\n",
    "$$ U(x,t) = \\sum_{m=1}^\\infty A_m e^{-m^2 \\pi^2 t} \\sin(m \\pi x) $$\n",
    "If we impose the initial solution we find the coefficient $A_m$ and it is given \n",
    "by sine Fourier series. \n",
    "The full solution is overlap of steady state and particular solution.\n"
   ]
  },
  {
   "cell_type": "markdown",
   "id": "71443801-13af-437f-92f0-c341913582d5",
   "metadata": {
    "tags": []
   },
   "source": [
    "\n",
    "\n",
    "\n"
   ]
  },
  {
   "cell_type": "markdown",
   "id": "7d74b0ef-1a82-4d96-bb8e-0a5d9ddad9c8",
   "metadata": {
    "tags": []
   },
   "source": [
    "# Divergence Theorem\n",
    "\n",
    "Let $\\Omega$ a bounded open subset of $\\R^n$ with (piecewise) smooth boundary. Let \n",
    "$\\mathbf{X}=(x_1,\\ldots,x_n)$ a smooth vector field defined in $\\R^n$ (or at least on domain and its boundary).\n",
    "Let $n$ be the unit outward pointing normal of boundary of $\\Omega$. The divergence theorem states\n",
    "$$ \\int_{\\Omega} div \\mathbf{X}  dV = \\int_{\\partial \\Omega} \\mathbf{X} \\cdot \\mathbf{n} dS $$\n",
    "If we consider the 1D case $\\Omega=(a,b)$, the normal direction take value $-1$ at $a$, \n",
    "and $+1$ at other extrema. The green theorem concides with fundamental theorem of calculus. \n",
    "$$ \\int_a^b \\derf{f}{x} dx = f(b)-f(a) $$\n",
    "In 2d case, we have definition of normal which is orthogonal to tangent vectoralong the boundy curve $(dx,dy)$ and we denote by ds the element of arc-length. \n",
    "$$ \\mathbf{n} dA = \\mathbf{n} ds = (dy, -dx)$$\n",
    "In 3d, the boundary of domain can be defined implicitely as level set e.g. $\\partial \\Omega=\\left\\{ x: F(x)=0 \\right\\}$, where the vector pointing in diretion of $\\mathbf{n}$ is \n",
    "gradient of F. In this case we can use $F:= z - f(x,y)$ and we are inside the domain if $z<f(x,y)$. \n",
    "Then \n",
    "$$ \\mathbf{n} = \\frac{(-\\derf{f}{x}, -\\derf{f}{y},1)}{1+(\\derf{f}{x})^2+(\\derf{f}{y})^2} $$\n",
    "$$ dS = (1+(\\derf{f}{x})^2+(\\derf{f}{y})^2)^{1/2} dx dy $$\n",
    "Follow then \n",
    "$$ \\mathbf{n} dV = (-\\derf{f}{x}, -\\derf{f}{y},1) dx dy  $$\n",
    "\n",
    "#### Green Identities\n",
    "The main consequence of divergence theorem is the Green Identities, which allow us to integrate by part. Under same hypothesis of Green theorem and let u be a smooth function, and using the product rule of differentiation \n",
    "$$ div(u \\mathbf{X}) = grad u \\cdot\\mathbf{X} + u div \\mathbf{X} $$\n",
    "where  $u$ and $v$ are scalar function with $u$ continuous differentiable and $v$ twice continuous differentiable.\n",
    "If we integrate this equation over the domain and we apply the divergence theorem to lhs we obtain that\n",
    "$$\\int_{\\partial \\Omega} u \\mathbf{X} \\cdot \\mathbf{n} ds = \\int_{\\Omega} (\\nabla u \\mathbf{X} + u div \\mathbf{X}) dV   $$\n",
    "\n",
    "##### Green's first identity.\n",
    "Taking $\\mathbf{X}= \\nabla v$, where $v$ is a suitable functionin the domain $\\Omega$, we obtain\n",
    "\n",
    "$$\\int_{\\partial \\Omega} u \\nabla v \\cdot \\mathbf{n} ds = \\int_{\\Omega} (\\nabla u \\nabla v + u div \\nabla v) dV    $$\n",
    "\n",
    "$$\\int_{\\partial \\Omega} \\derf{v}{\\mathbf{n}} ds =\\int_{\\Omega} (\\nabla u \\nabla v) dV + \\int_{\\Omega} u \\Delta  v dV  $$\n",
    "\n",
    "Now we assume that $u$ is twice differentiable and we swap the role of $u$ and $v$ we get 1st Green's identity. Let take 1st identity and we isolate $u \\Delta v$ and again for\n",
    "$v \\Delta u$ (Flux of $v \\nabla u$):\n",
    "\n",
    "$$\\int_{\\partial \\Omega} \\derf{v}{\\mathbf{n}} ds- \\int_{\\Omega} (\\nabla u \\nabla v) dV =\n",
    "\\int_{\\Omega} u \\Delta  v dV  $$\n",
    "\n",
    "$$\\int_{\\partial \\Omega} \\derf{u}{\\mathbf{n}} ds- \\int_{\\Omega} (\\nabla u \\nabla v) dV =\n",
    "\\int_{\\Omega} v \\Delta  u dV  $$\n",
    "Subtracting this equation we obtain the 2nd Green identity.\n",
    "#### Exercise 1: \n",
    "Let assume as choice $\\mathbf{X}=\\nabla u$, where $u$ is $C^2(\\Omega)$. Apply the Green theorem and product of differential rule to obtain 1st Green identity.\n",
    "\n",
    "\n",
    "#### Exercise2 : 3rd Green Identity\n",
    "Let now take $v= \\frac{1}{|x-x_0|+\\epsilon}$, insert in 2nd Green Identity then take limit for $\\epsilon\\to 0$. we obtain the 3rd Green Identity,\n",
    "$$ -4 \\pi v(x_0) = \\int_{\\Omega} \\frac{1}{| x-x_0 |}\\nabla^2 v dV + \\int_{\\partial \\Omega}(\\frac{1}{| x-x_0 |}\\nabla v -v( \\nabla \\frac{1}{| x-x_0 |}) \\mathbf{n} dS$$,\n",
    " where $x,x_0 \\in \\Omega$ \n",
    " \n",
    "From this identity we can observe that if $v$ is the solution of laplace equation $\\Delta v=0$ then we can fully determine the solution and it only depend on value that take on boundary of the domain.\n",
    "\n"
   ]
  },
  {
   "cell_type": "markdown",
   "id": "6ef7e65e-27c5-45fc-8888-d744c441a833",
   "metadata": {},
   "source": [
    "# Principio del Massimo\n",
    "1. We multiply by a function w the heat equation and we\n",
    "integrate diffusion equation.\n",
    "2. We apply the Green Identity.\n",
    "3. We define energy \n",
    "Since the heat flow from higher to lower temperature region, a solution of the homogenous \n",
    "heat equation has its maximum and minumum at boundary of domain. This results is called \n",
    "maximum principle. In addition, the causuality principle holds_ the phenomena is irreversible that means that future\n",
    "prediction can not have influence on the past.\n",
    "Theorem of Maximum Principle\n",
    "\n",
    "Consequence (stability)\n",
    "\n",
    "(salsa book)\n",
    "# Foundamental Solution (n>2)"
   ]
  },
  {
   "cell_type": "markdown",
   "id": "feaecd7c-920d-4dc1-9193-897129ef87a9",
   "metadata": {},
   "source": [
    "## Finite Difference Method\n",
    "Seek for $u\\in \\Omega \\subset \\R \\times [0,T]$ such that solve \n",
    "$$\\dert{u}= a\\cdot \\derxx{u}$$\n",
    "with boundary condition $u=0$ at extrema of the domain $\\Omega=[0,L]$ for all $t\\in [0,T]$ \n",
    "\n",
    "with initial condition $u(x,0)=f(x)$\n",
    "\n",
    "Definition\n",
    "0. Derivate definition 1d.\n",
    "1. Taylor Expansion.\n",
    "2. Finite Difference 1D.\n",
    "\n",
    "3. 2D case Frencht Derivative\n",
    "4. Finite Difference Method in time and in space\n"
   ]
  },
  {
   "cell_type": "code",
   "execution_count": null,
   "id": "1a06c837-d4e9-460f-8de3-cb53c104ca12",
   "metadata": {},
   "outputs": [],
   "source": []
  }
 ],
 "metadata": {
  "kernelspec": {
   "display_name": "Python 3 (ipykernel)",
   "language": "python",
   "name": "python3"
  },
  "language_info": {
   "codemirror_mode": {
    "name": "ipython",
    "version": 3
   },
   "file_extension": ".py",
   "mimetype": "text/x-python",
   "name": "python",
   "nbconvert_exporter": "python",
   "pygments_lexer": "ipython3",
   "version": "3.11.4"
  }
 },
 "nbformat": 4,
 "nbformat_minor": 5
}
