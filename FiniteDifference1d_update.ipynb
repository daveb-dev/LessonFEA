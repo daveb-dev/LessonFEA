{
 "cells": [
  {
   "cell_type": "markdown",
   "id": "53cbb0ce-423e-4b63-8653-6fb9bb473cbf",
   "metadata": {},
   "source": [
    "## Finite Difference Method for linear partial differential equation"
   ]
  },
  {
   "cell_type": "markdown",
   "id": "394d9998-11b6-46af-bc9a-c7eec73ad155",
   "metadata": {
    "tags": []
   },
   "source": [
    "$\\newcommand{\\R}{\\mathbb{R}}}$\n",
    "$\\newcommand{\\L}{\\mathcal{L}}}$\n",
    "$\\newcommand{\\dert}[1]{\\frac{\\partial #1}{\\partial t}}$\n",
    "$\\newcommand{\\derx}[1]{\\frac{\\partial #1}{\\partial x}}$\n",
    "$\\newcommand{\\derf}[2]{\\frac{\\partial #1}{\\partial #2}}$\n",
    "$\\newcommand{\\derxx}[1]{\\frac{\\partial^2 #1}{\\partial x^2}}$\n",
    "$\\newcommand{\\derk}[2]{\\frac{\\partial^2 #1}{\\partial {#2}^2}}$\n",
    "$\\newcommand{\\derm}[3]{\\frac{\\partial^2 #1}{\\partial {#2} \\partial {#3}}}$\n",
    "\n",
    "```"
   ]
  },
  {
   "cell_type": "markdown",
   "id": "b5bb4069-0bbd-4e3b-afab-4199858b3b51",
   "metadata": {
    "tags": []
   },
   "source": [
    "# Classification of Partial differential equation\n",
    "Let assume $x,y,\\ldots$ are indipendent variables. There is a dependent variable that is an unknown function\n",
    "of the variable $u(x,y,\\ldots)$. A PDE is an identity that relates the indipendent variable,\n",
    "the  dependent variable $u$ and the partial derivatives of $u$. It can be expressed by\n",
    "\n",
    "$$F(x,y,t, u(x,y,t), \\dert{u},\\derx{u},\\derxx{u},\\derk{u}{y},\\derm{u}{x}{y}=0$$\n",
    "\n",
    "The order of an equation is the highest derivative that appears.\n",
    "\n",
    "Linearity: Let written the equation in form of operator $\\L u=0$. Let $v$ is any function, then $\\mathcal{L} v$ is function. The definition of linearity is \n",
    "$$\\mathcal{L}(u+v)= \\L u+ \\mathcal{L} v $$\n",
    "$$\\L(\\alpha\\cdot v)=\\alpha \\L v $$\n",
    "for any function $u,v$ and constant $\\alpha$.\n",
    "If the rhs is null then the equation is called homogeneous.\n",
    "Whereas if $\\L u=g$ with $g$ not null then equation is call inhomogeneous."
   ]
  },
  {
   "cell_type": "markdown",
   "id": "af898b66-eeaa-45d2-993c-24c8ce68febe",
   "metadata": {},
   "source": [
    "Note: The space of solutions which solve the homogenous linear PDE is a vectorial space. \n",
    "\n",
    "Let consider the solution of non homogenous linear PDE namely $\\L (u) = f$.\n",
    "Let suppose that its non-trivial  solution is  $\\L(u_0)=f$, then also the $S=\\left\\{u : \\L u=0 \\right\\} +u_0$ is also solution of the non homoegenous PDE.\n",
    "Proof. If $v=u+u_0$ with $\\L u =0$, then \n",
    "$$ \\L(v)= \\L(u+u_0) =\\L(u)+\\L(u_0)=0+f$$\n",
    "Viceversa, if $w \\in S$ and $\\L(w-u_0)= \\L(w)-\\L(u_0)= f-f=0$\n",
    "thus $u= w+u_0 $ is homogenous solution and union of homogenous solution and non homogenous solution constitute all solution of the PDE.\n",
    "\n",
    "Note: If $\\L(u)=0$ and $\\L$ is linear. The linear combination of $n$ indipendent solution is still a solution $\\L( \\sum_{i=0}^{n} c_i u_i)=0$. \n"
   ]
  },
  {
   "cell_type": "markdown",
   "id": "1412a69d-245e-49e2-a9e7-be1e007303bd",
   "metadata": {},
   "source": [
    "#### Characteristic line\n",
    "Let consider $a u_x + b u_y =0$ with boundary condition $u(x,y)=g(y)$ that is equivalent to $(a,b) \\cdot \\nabla u=0$. if $v=(a,b)$ then\n",
    "$a u_x + b u_y$ is directional derivative of u respect to the direction $v$.\n",
    "If we assume it is null, this implies that $u(x,y)$ is constant on direction $v$.\n",
    "And all the parallel line to the gradient has the direction $(b,-a)$ so that $bx -ay=c$ (characteristic line).\n",
    "This argument lead to state that the solution $u(x,y)= g(bx-ay)$ (depend of $(bx-ay)$). \n"
   ]
  },
  {
   "cell_type": "markdown",
   "id": "d22ac68a-2e36-4811-b8dd-987499afba3f",
   "metadata": {
    "tags": []
   },
   "source": [
    "#### Non constant coeffiencient\n",
    "$$ a(x,y) u_x + b(x,y) u_y =0 $$\n",
    "we can rewritten as an ODE\n",
    "$$\\frac{dy}{dx} = \\frac{b(x,y)}{a(x,y)}$$\n",
    "Abuse of notation: we use $dx$ to denote $\\partial x$.\n",
    "Argument: is conside the particular case $u_x + y u_y=0$ is equivalent to say that directional derivative respect to $(1,y)$ is 0. Then the caratteristic curve with $(x,y)$ as tangent vector  depends on $y $ and $x$ have the equation $\\frac{dy}{dx}= \\frac{y}{x}$ that is an ode $\\dot{y}y(x)=x$ that can rewritten as $\\frac{d}{dx}(0.5\\cdot y^2)=x$ so $0.5\\cdot y^2 - x^2\\cdot 0.5= c$, up to rescaling the constant c, the characteristic curve is $ y^2 - x^2 = c$. Thus, the solution is of form \n",
    "$u(x,y)=g(y^2-x^2)$. If we imposed that BC $u(0,y)= e^{-y^2}$ then $u(x,y)=e^{-(y^2+x^2)}$."
   ]
  },
  {
   "cell_type": "markdown",
   "id": "eb9c6c1f-a077-420d-88bc-318dbee38d50",
   "metadata": {},
   "source": [
    "#### Example of  equations:\n",
    "\n",
    "+ Transport equation (linear and 1st order) $$\\derf{u}{t}+ \\beta \\cdot \\nabla u = f$$\n",
    "+ Diffusion or heat equation, (second order and linear equation)\n",
    "    $$\\derf{u}{t} - \\beta \\nabla^2 u = f$$\n",
    "    where $\\nabla^2=\\Delta$ is the Laplace operator (sum of 2nd derivative and \n",
    "                                                     not mixed).\n",
    "+ Wave equation (2nd order)\n",
    "    $$ \\derk{u}{t} - c^2 \\Delta u = 0 $$\n",
    "+ Laplace or potentential equation (second order)\n",
    "    $$\\Delta u =0 $$\n",
    "+ Black Scholes equation (second order)\n",
    "   $$\\derf{u}{t} + 0.5 * \\sigma^2 x^2  \\derk{u}{x} +r x \\derx{u} - ru =0 $$\n",
    "   evolution of the price $u$ of derivative (e.g. European option) based on\n",
    "   underlying asset (stock) whose price is $x$\n",
    "+ Vibrating plate (4th order)\n",
    "$$   \\derk{u}{t} -\\Delta^2 u =0 $$\n",
    "where $$\\Delta^2 = \\frac{\\partial^4 u}{\\partial x_1^4} + 2 \n",
    "\\frac{\\partial^4 u}{\\partial x_1^2 \\partial x_2^2 }+ \n",
    "= \\frac{\\partial^4 u}{\\partial x_2^4}$$\n",
    "It is used also as biharmomic operator in Fluid structure interaction.\n",
    "+ Burger's equation quasilinear first order\n",
    "   $$ \\derf{u}{t} + c u \\derf{u}{x} =0 $$\n",
    "   it models the 1d flux of non viscous fluid. Its variation model the \n",
    "   traffic dynamics\n",
    "   $$ \\derf{u}{t} + c u \\derf{u}{x} =  \\alpha \\derk{u}{x} $$\n",
    "   $\\alpha>0$.\n",
    "   Dissipation part is the address by rhs term where as the common term\n",
    "   with Burger's equation govern the shock formation.\n",
    "+ Porous media equation (quasilinear and 2nd order)\n",
    "   $$\\rho \\derf{u}{t} = k \\nabla \\cdot (u^{\\gamma} \\nabla u) $$\n",
    "   where $k$ is permeability, $\\rho$ density and $\\gamma>1$.\n",
    "   This equation has been use for filtration phenomena, percolation (\n",
    "   PFAS model).\n",
    "+ Minimal surface equation (quasilinear, second order) soap bubble model\n",
    "   $$\\nabla \\cdot (\\frac{\\nabla}{\\sqrt{1+|\\nabla u|^2}}=0$$\n",
    "   Graph of the solution $u$ minimize the area amon all surface $z=v(x,y)$\n",
    "   whose boundary is a given curve.\n",
    "+ Eikonal equation (fully non linear, first order). It appears in \n",
    "cardiovascular simulation for the electric potential and in optics. \n",
    "  $$|\\nabla u | = c(x) $$\n",
    "+ Navier equation of linear elasticity  (System of PDE, three 2nd order scalar\n",
    "equation )\n",
    "  $$ \\derk{u}{t}= \\mu \\Delta u + (\\mu+\\lambda) \\nabla \\nabla \\cdot u $$\n",
    "+ Navier Stokes ( 3 quasilinear scalar equation and 1 linear first order)\n",
    "  $$ \\derf{u}{t} +(u \\cdot \\nabla)u = -\\frac{1}{\\rho} \\nabla p + \\nu \n",
    "  \\Delta u $$\n",
    "  $$ \\nabla \\cdot u =0 $$\n",
    "  The term $(u \\cdot \\nabla)u$ represent the inertial accelaration due\n",
    "  to fluid trasport."
   ]
  },
  {
   "cell_type": "markdown",
   "id": "67e03330-6263-4711-bb40-46ce8afcd7a4",
   "metadata": {},
   "source": [
    "## Boundary condition definition"
   ]
  },
  {
   "cell_type": "markdown",
   "id": "9a78c32b-e1ce-4b52-98a4-18739b7cba35",
   "metadata": {},
   "source": [
    "In physical problem, it is necessary to specify some boundary condition to determine the solution. The most used boundary condition are\n",
    "+  Dirichlet condition  u is specified at boundary\n",
    "+  Neumann condition the normal derivative $\\derf{u}{n}$ is specified \n",
    "+  Robin condition $\\derf{u}{n} + \\beta u$"
   ]
  },
  {
   "cell_type": "markdown",
   "id": "71d218a2-20d7-4aff-b3e9-8dcc34a13619",
   "metadata": {},
   "source": [
    "## Partial differential equation classification"
   ]
  },
  {
   "cell_type": "markdown",
   "id": "868935f9-df6d-4fd3-aa17-21935ea53f84",
   "metadata": {},
   "source": [
    "PDE can be classified in three families eliptic, parabolic and hyperbolic.\n",
    "Let limiting to 2nd order linear with constant coefficient\n",
    "$$L u = A \\frac{\\partial^2 u}{\\partial x^ 2} + B \\frac{\\partial^2 u}{\\partial x \\partial y }\n",
    "  + C  \\frac{\\partial^2 u}{\\partial y^ 2} + (D,E) \\cdot \\nabla u + F u = G $$\n",
    "The discrimant is $\\Delta = B\\cdot B - 4 AC $, then\n",
    "\n",
    "+ $\\Delta<0$ equation is defined elliptic\n",
    "+ $\\Delta=0$ equation is defined parabolic\n",
    "+ $\\Delta>0$ equation is defined hyperbolic\n",
    "\n",
    "Among example above, we could prove that (exercise)\n",
    "+ wave equation is hyperbolic\n",
    "+ potential equation is elliptic\n",
    "+ heat equation is parabolic"
   ]
  },
  {
   "cell_type": "markdown",
   "id": "15471d50-7e9c-4498-9c4b-ed73ad9ea27a",
   "metadata": {},
   "source": [
    "## Diffusion Equation\n",
    "Let consider a motionless liquid filling a straight pipe, and a chemical contaminant which is diffusing through the liquid. In this setting, we focus on motion of contaminant (diffusion), whereas if we model the motion of liquid (convection-trasport). \n",
    "The contaminant moves from region of higher concetration to region of lower concetration.\n",
    "Fick's law of diffusion states rate of motion is proportional to the concetration gradient.\n",
    "Let $u(x,t)$ the concentration (mass per unit length) of the cominantant at position $x$ of the pipe at time $t$.\n",
    "In the section of pipe from $a$ to $b$ the mass of contaminat is defined by \n",
    "$$ mass(t) = \\int_{a}^{b} u(x,t) dt $$\n",
    "$$\\derf{mass(t)}{t} =\\int_{a}^{b} \\derf{u(x,t)}{t} dt  $$\n",
    "The mass in this section of domain can not change except by exiting or entering in the pipe (inflow and outflow). Applying the Fick Law\n",
    "$$\\derf{mass(t)}{t} = \\mathrm{flow in} - \\mathrm{flow out} = k\\derf{u}{x}(a,t) -k\\derf{u}{x}(b,t) $$\n",
    "where $k$ is constant. Combining the expression above we obtain\n",
    "$$ \\int_{a}^{b} \\derf{u(x,t)}{t} dt = k\\derf{u}{x}(a,t) -k\\derf{u}{x}(b,t) $$\n",
    "Now if we differentiate respect to $x$ we get \n",
    "$$\\dert{u}= a\\cdot \\derxx{u}$$"
   ]
  },
  {
   "cell_type": "markdown",
   "id": "c5d1473e-d71f-4a6d-aa20-c4b74d9ccec2",
   "metadata": {
    "tags": []
   },
   "source": [
    "#### Transport equation (physical interpretation and analytical solution)\n",
    "$$ u_t + c u_x =0$$\n",
    "Let consider a fluid at speed $c$ in horizontal ppipe with constant section ( orizontal to outflow direction). A contaminant is immersed in the fluid $u(x,t)$ $(g/cm^3)$ at time $t$.\n",
    "$u_t$ is the rate of change of concentration and it is proporzional to gradient of contaminant. We consider negligible the diffusion. Using the characteristic line to derive the analytical solution, we obtain that the solution is of shape $f(cx-t)= u(x,t)$,\n"
   ]
  },
  {
   "cell_type": "markdown",
   "id": "768aa7e5-bcf9-4f76-a0c6-fb3f984d9e33",
   "metadata": {
    "jp-MarkdownHeadingCollapsed": true,
    "tags": []
   },
   "source": [
    "#### How we could solve analytically the 1d diffusion equation?\n",
    "Steady state solution is \n",
    "$$u_0 + (u_1-u_0)\\frac{x}{L}$$\n",
    "Hint: if we integrate both side of pde $\\Delta u =0$ (1st time we get a constant in right, 2nd time we get  something of shape $u_0(x)= C_1+ C_2 x$ (imposing the bc we get the form above).\n",
    "\n",
    "Method of separation of variable, since the equation is linear\n",
    "we can use superposition principle and find a particular solution\n",
    "$$ u(x,t) = w(x) v(t) $$\n",
    "1. 1st step consist in replace it in the PDE so we get\n",
    "$$ \\derk{w}{x} - \\lambda w(x) =0 $$\n",
    "we can assume that w(0)=w(1)=0 and \n",
    "$$ \\derk{v}{t} - \\lambda v(t) =0 $$\n",
    "2. 2nd step solving the first equation with dirichlet Boundary condition\n",
    "lead to following cases\n",
    "+ $\\lambda =0 $ then $w(x) = A + B x$, following the condition we get $A=B=0$\n",
    "+ $\\lambda >0 $, let $\\lambda= \\mu^2>0$ then $w(x)= A e^{-\\mu x}+ B e^{\\mu x}$,  following the condition we get $A=B=0$\n",
    "+ $\\lambda <0 $, let $\\lambda=- \\mu^2<0$ then $w(x)= A \\sin(\\mu x)+ B \\cos(\\mu x)$, \n",
    "if $w(0)=B=0$, $w(1)= A \\sin \\mu B \\cos\\mu=0$ so $A$ is arbitrary and $\\mu_m= m \\pi$.\n",
    "the non trivial solution is $w_m(x)= A sin(m \\pi x)$\n",
    "With $\\lambda = -\\mu^2_m$ in the other equation involving time, we get the general solution as $v_m(t)= C e^{-m^2 \\pi^2 t}$\n",
    "It follows that the solution of equation with Dirichlet homogenous BC can be written as\n",
    "$$ U(x,t) = \\sum_{m=1}^\\infty A_m e^{-m^2 \\pi^2 t} \\sin(m \\pi x) $$\n",
    "If we impose the initial solution we find the coefficient $A_m$ and it is given \n",
    "by sine Fourier series. \n",
    "The full solution is overlap of steady state and particular solution (it follows from note above on linear PDE).\n"
   ]
  },
  {
   "cell_type": "markdown",
   "id": "3b5c60f4-f7c4-4739-a6f8-b928ba228ff4",
   "metadata": {},
   "source": [
    "## Finite Difference 1D"
   ]
  },
  {
   "cell_type": "markdown",
   "id": "4c747f13-3c8f-4956-b695-e0636bac6353",
   "metadata": {},
   "source": [
    "Definition\n",
    "0. Derivate definition 1d.\n",
    "1. Taylor Expansion.\n",
    "2. Finite Difference 1D.\n"
   ]
  },
  {
   "cell_type": "markdown",
   "id": "53a02387-5af3-4d04-93c2-dc38b248638b",
   "metadata": {
    "tags": []
   },
   "source": [
    "$$f(x+\\delta x)=f(x)+f'(x)\\delta x+\\frac{f''(x)}{2!}\\delta x^2+\\dots + \\frac{f^{(k)}(x)}{k!}\\delta x^k + C_{k+1}$$\n",
    "Remainder \n",
    "$$C_{k+1} = \\frac{f^{(k+1)}(\\xi)}{(k+1)!}\\delta x^{k+1}, \\quad\\quad x\\leq \\xi \\leq x+\\delta x$$\n",
    "if the $k+1$-th derivative of $f$ is bound by $\\alpha$ we have $\\vert C_{k+1}\\vert \\leq \\frac{\\alpha}{(k+1)!}\\delta x^{k+1}$ and if we take the limit for increment that tends to 0, the remainder term will tend to 0 as well.\n",
    "\n",
    "Let take 1st order derivative:\n",
    "\n",
    "$$f(x+\\delta x)= f(x)+f'(x)\\delta x+O(\\delta x^2)$$\n",
    "\n",
    "Let center it with negative increment\n",
    "$$f(x-\\delta x)= f(x)-f'(x)\\delta x+O(\\delta x^2)$$\n",
    "\n",
    "We would approximate the 1st derivative. We introduce a grid and from two expansion above we derive the forward and backword finite-difference"
   ]
  },
  {
   "cell_type": "markdown",
   "id": "9471e902-bb51-4a13-897a-fa3664c2e60c",
   "metadata": {
    "tags": []
   },
   "source": [
    "Let now approximate the 2th order for 1st derivative\n",
    "\n",
    "\\begin{split}& f(x+\\delta x) \\approx f(x)+f'(x)\\delta x+\\frac12 f''(x)\\delta x^2 \\\\\n",
    "& f(x-\\delta x) \\approx f(x)-f'(x)\\delta x+\\frac12 f''(x)\\delta x^2.\\end{split}\n",
    "By subtraing them we get\n",
    "\n",
    "$$f'(x) = \\frac{f(x+\\delta x) - f(x-\\delta x)}{2\\delta x}+O(\\delta x^2)$$\n"
   ]
  },
  {
   "cell_type": "markdown",
   "id": "5ead7a27-7152-4375-9c2d-c8ec661e34f7",
   "metadata": {},
   "source": [
    "Let derive approximation for higher order derivative (2nd order)\n",
    "\\begin{split}& f(x+\\delta x) = f(x)+f'(x)\\delta x+\\frac12 f''(x)\\delta x^2+\\frac16 f'''(x)\\delta x^3+O(\\delta x^4) \\\\\n",
    "& f(x-\\delta x) = f(x)-f'(x)\\delta x+\\frac12 f''(x)\\delta x^2-\\frac16 f'''(x)\\delta x^3+O(\\delta x^4).\\end{split}"
   ]
  },
  {
   "cell_type": "markdown",
   "id": "2cf641fa-7818-4dd5-ac6e-f95d85b705fc",
   "metadata": {
    "tags": []
   },
   "source": [
    "$$f''(x_i)=\\frac{f(x_{i-1})-2f(x_i)+f (x_{i+1})}{\\delta x^2}.$$"
   ]
  },
  {
   "cell_type": "markdown",
   "id": "feaecd7c-920d-4dc1-9193-897129ef87a9",
   "metadata": {},
   "source": [
    "Exercise Hand on: Using the finite difference formulas\n",
    "1) solve Heat equation\n",
    "2) solve transport equation\n",
    "3) Courant Number and stability "
   ]
  },
  {
   "cell_type": "markdown",
   "id": "7d74b0ef-1a82-4d96-bb8e-0a5d9ddad9c8",
   "metadata": {
    "tags": []
   },
   "source": [
    "\n",
    "1. Foundamental Solution (n>2)  (next lesson)\n",
    "2. 2D case Frencht Derivative (next lesson)\n",
    "3. Finite Difference Method in time and in space (next lesson)\n"
   ]
  },
  {
   "cell_type": "code",
   "execution_count": null,
   "id": "1a06c837-d4e9-460f-8de3-cb53c104ca12",
   "metadata": {},
   "outputs": [],
   "source": []
  }
 ],
 "metadata": {
  "kernelspec": {
   "display_name": "Python 3 (ipykernel)",
   "language": "python",
   "name": "python3"
  },
  "language_info": {
   "codemirror_mode": {
    "name": "ipython",
    "version": 3
   },
   "file_extension": ".py",
   "mimetype": "text/x-python",
   "name": "python",
   "nbconvert_exporter": "python",
   "pygments_lexer": "ipython3",
   "version": "3.11.4"
  }
 },
 "nbformat": 4,
 "nbformat_minor": 5
}
