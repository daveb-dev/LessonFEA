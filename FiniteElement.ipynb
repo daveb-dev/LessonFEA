{
 "cells": [
  {
   "cell_type": "markdown",
   "id": "4afcd068-be52-4525-95da-5d0bf5f61dd9",
   "metadata": {},
   "source": [
    "# Divergence Theorem (foundamental for Finite Element method)\n",
    "\n",
    "Let $\\Omega$ a bounded open subset of $\\R^n$ with (piecewise) smooth boundary. Let \n",
    "$\\mathbf{X}=(x_1,\\ldots,x_n)$ a smooth vector field defined in $\\R^n$ (or at least on domain and its boundary).\n",
    "Let $n$ be the unit outward pointing normal of boundary of $\\Omega$. The divergence theorem states\n",
    "$$ \\int_{\\Omega} div \\mathbf{X}  dV = \\int_{\\partial \\Omega} \\mathbf{X} \\cdot \\mathbf{n} dS $$\n",
    "If we consider the 1D case $\\Omega=(a,b)$, the normal direction take value $-1$ at $a$, \n",
    "and $+1$ at other extrema. The green theorem concides with fundamental theorem of calculus. \n",
    "$$ \\int_a^b \\derf{f}{x} dx = f(b)-f(a) $$\n",
    "In 2d case, we have definition of normal which is orthogonal to tangent vectoralong the boundy curve $(dx,dy)$ and we denote by ds the element of arc-length. \n",
    "$$ \\mathbf{n} dA = \\mathbf{n} ds = (dy, -dx)$$\n",
    "In 3d, the boundary of domain can be defined implicitely as level set e.g. $\\partial \\Omega=\\left\\{ x: F(x)=0 \\right\\}$, where the vector pointing in diretion of $\\mathbf{n}$ is \n",
    "gradient of F. In this case we can use $F:= z - f(x,y)$ and we are inside the domain if $z<f(x,y)$. \n",
    "Then \n",
    "$$ \\mathbf{n} = \\frac{(-\\derf{f}{x}, -\\derf{f}{y},1)}{1+(\\derf{f}{x})^2+(\\derf{f}{y})^2} $$\n",
    "$$ dS = (1+(\\derf{f}{x})^2+(\\derf{f}{y})^2)^{1/2} dx dy $$\n",
    "Follow then \n",
    "$$ \\mathbf{n} dV = (-\\derf{f}{x}, -\\derf{f}{y},1) dx dy  $$\n",
    "\n",
    "#### Green Identities\n",
    "The main consequence of divergence theorem is the Green Identities, which allow us to integrate by part. Under same hypothesis of Green theorem and let u be a smooth function, and using the product rule of differentiation \n",
    "$$ div(u \\mathbf{X}) = grad u \\cdot\\mathbf{X} + u div \\mathbf{X} $$\n",
    "where  $u$ and $v$ are scalar function with $u$ continuous differentiable and $v$ twice continuous differentiable.\n",
    "If we integrate this equation over the domain and we apply the divergence theorem to lhs we obtain that\n",
    "$$\\int_{\\partial \\Omega} u \\mathbf{X} \\cdot \\mathbf{n} ds = \\int_{\\Omega} (\\nabla u \\mathbf{X} + u div \\mathbf{X}) dV   $$\n",
    "\n",
    "##### Green's first identity.\n",
    "Taking $\\mathbf{X}= \\nabla v$, where $v$ is a suitable functionin the domain $\\Omega$, we obtain\n",
    "\n",
    "$$\\int_{\\partial \\Omega} u \\nabla v \\cdot \\mathbf{n} ds = \\int_{\\Omega} (\\nabla u \\nabla v + u div \\nabla v) dV    $$\n",
    "\n",
    "$$\\int_{\\partial \\Omega} \\derf{v}{\\mathbf{n}} ds =\\int_{\\Omega} (\\nabla u \\nabla v) dV + \\int_{\\Omega} u \\Delta  v dV  $$\n",
    "\n",
    "Now we assume that $u$ is twice differentiable and we swap the role of $u$ and $v$ we get 1st Green's identity. Let take 1st identity and we isolate $u \\Delta v$ and again for\n",
    "$v \\Delta u$ (Flux of $v \\nabla u$):\n",
    "\n",
    "$$\\int_{\\partial \\Omega} \\derf{v}{\\mathbf{n}} ds- \\int_{\\Omega} (\\nabla u \\nabla v) dV =\n",
    "\\int_{\\Omega} u \\Delta  v dV  $$\n",
    "\n",
    "$$\\int_{\\partial \\Omega} \\derf{u}{\\mathbf{n}} ds- \\int_{\\Omega} (\\nabla u \\nabla v) dV =\n",
    "\\int_{\\Omega} v \\Delta  u dV  $$\n",
    "Subtracting this equation we obtain the 2nd Green identity.\n",
    "#### Exercise 1: \n",
    "Let assume as choice $\\mathbf{X}=\\nabla u$, where $u$ is $C^2(\\Omega)$. Apply the Green theorem and product of differential rule to obtain 1st Green identity.\n",
    "\n",
    "\n",
    "#### Exercise2 : 3rd Green Identity\n",
    "Let now take $v= \\frac{1}{|x-x_0|+\\epsilon}$, insert in 2nd Green Identity then take limit for $\\epsilon\\to 0$. we obtain the 3rd Green Identity,\n",
    "$$ -4 \\pi v(x_0) = \\int_{\\Omega} \\frac{1}{| x-x_0 |}\\nabla^2 v dV + \\int_{\\partial \\Omega}(\\frac{1}{| x-x_0 |}\\nabla v -v( \\nabla \\frac{1}{| x-x_0 |}) \\mathbf{n} dS$$,\n",
    " where $x,x_0 \\in \\Omega$ \n",
    " \n",
    "From this identity we can observe that if $v$ is the solution of laplace equation $\\Delta v=0$ then we can fully determine the solution and it only depend on value that take on boundary of the domain.\n"
   ]
  },
  {
   "cell_type": "markdown",
   "id": "e1d7e266-8dfd-40b4-b30f-129c39eb8c72",
   "metadata": {
    "tags": []
   },
   "source": []
  },
  {
   "cell_type": "markdown",
   "id": "910b30f1-9786-463b-8d33-b4567a90d072",
   "metadata": {},
   "source": [
    "# Maximum Principle (Uniqueness of solution - diffusion equation)\n",
    "1. We multiply by a function w the heat equation and we\n",
    "integrate diffusion equation.\n",
    "2. We apply the Green Identity.\n",
    "3. We define energy \n",
    "Since the heat flow from higher to lower temperature region, a solution of the homogenous \n",
    "heat equation has its maximum and minumum at boundary of domain. This results is called \n",
    "maximum principle. In addition, the causuality principle holds_ the phenomena is irreversible that means that future\n",
    "prediction can not have influence on the past.\n",
    "Theorem of Maximum Principle\n",
    "\n",
    "Consequence (stability)\n",
    "\n",
    "(salsa book)\n"
   ]
  },
  {
   "cell_type": "markdown",
   "id": "94a86e1d-ac31-4c14-948a-2a12ee9bfd36",
   "metadata": {},
   "source": [
    "1. Weak Form Laplacian \n",
    "2. Finite Element Transformation reference Current element\n",
    "3. Small code.\n",
    "4. Enciclopedia of FEM."
   ]
  },
  {
   "cell_type": "code",
   "execution_count": null,
   "id": "82a6617c-fa7d-4fb7-9534-e91bc1c1f06b",
   "metadata": {},
   "outputs": [],
   "source": []
  }
 ],
 "metadata": {
  "kernelspec": {
   "display_name": "Python 3 (ipykernel)",
   "language": "python",
   "name": "python3"
  },
  "language_info": {
   "codemirror_mode": {
    "name": "ipython",
    "version": 3
   },
   "file_extension": ".py",
   "mimetype": "text/x-python",
   "name": "python",
   "nbconvert_exporter": "python",
   "pygments_lexer": "ipython3",
   "version": "3.11.4"
  }
 },
 "nbformat": 4,
 "nbformat_minor": 5
}
