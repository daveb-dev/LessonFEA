{
 "cells": [
  {
   "cell_type": "markdown",
   "id": "53cbb0ce-423e-4b63-8653-6fb9bb473cbf",
   "metadata": {},
   "source": [
    "## Finite Difference Method for linear partial differential equation"
   ]
  },
  {
   "cell_type": "markdown",
   "id": "394d9998-11b6-46af-bc9a-c7eec73ad155",
   "metadata": {
    "tags": []
   },
   "source": [
    "$\\newcommand{\\R}{\\mathbb{R}}}$\n",
    "$\\newcommand{\\L}{\\mathcal{L}}}$\n",
    "$\\newcommand{\\dert}[1]{\\frac{\\partial #1}{\\partial t}}$\n",
    "$\\newcommand{\\derx}[1]{\\frac{\\partial #1}{\\partial x}}$\n",
    "$\\newcommand{\\derf}[2]{\\frac{\\partial #1}{\\partial #2}}$\n",
    "$\\newcommand{\\derxx}[1]{\\frac{\\partial^2 #1}{\\partial x^2}}$\n",
    "$\\newcommand{\\derk}[2]{\\frac{\\partial^2 #1}{\\partial {#2}^2}}$\n",
    "$\\newcommand{\\derm}[3]{\\frac{\\partial^2 #1}{\\partial {#2} \\partial {#3}}}$\n",
    "\n",
    "```"
   ]
  },
  {
   "cell_type": "markdown",
   "id": "b5bb4069-0bbd-4e3b-afab-4199858b3b51",
   "metadata": {
    "tags": []
   },
   "source": [
    "# Classification of Partial differential equation\n",
    "Let assume $x,y,\\ldots$ are indipendent variables. There is a dependent variable that is an unknown function\n",
    "of the variable $u(x,y,\\ldots)$. A PDE is an identity that relates the indipendent variable,\n",
    "the  dependent variable $u$ and the partial derivatives of $u$. It can be expressed by\n",
    "\n",
    "$$F(x,y,t, u(x,y,t), \\dert{u},\\derx{u},\\derxx{u},\\derk{u}{y},\\derm{u}{x}{y}=0$$\n",
    "\n",
    "The order of an equation is the highest derivative that appears.\n",
    "Linearity. Let written the equation in form of operator $\\L u=0$. Let $v$ is any function, then $\\mathcal{L} v$ is function. The definition of linearity is \n",
    "$$\\mathcal{L}(u+v)= \\L u+ \\mathcal{L} v $$\n",
    "$$\\L(\\alpha\\cdot v)=\\alpha \\L v $$\n",
    "for any function $u,v$ and constant $\\alpha$.\n",
    "If the rhs is null then the equation is called homogeneous.\n",
    "Whereas if $\\L u=g$ with $g$ not null then equation is call inhomogeneous."
   ]
  },
  {
   "cell_type": "markdown",
   "id": "9a78c32b-e1ce-4b52-98a4-18739b7cba35",
   "metadata": {},
   "source": [
    "In physical problem, it is necessary to specify some boundary condition to determine the solution. The most used boundary condition are\n",
    "x  Dirichlet condition  u is specified at boundary\n",
    "x  Neumann condition the normal derivative $\\derf{u}{n}$ is specified \n",
    "x  Robin "
   ]
  },
  {
   "cell_type": "markdown",
   "id": "feaecd7c-920d-4dc1-9193-897129ef87a9",
   "metadata": {},
   "source": [
    "Seek for $u\\in \\Omega \\subset \\R \\times [0,T]$ such that solve \n",
    "$$\\dert{u}= a\\cdot \\derxx{u}$$\n",
    "with boundary condition $u=0$ at extrema of the domain $\\Omega=[0,L]$ for all $t\\in [0,T]$ \n",
    "\n",
    "with initial condition $u(x,0)=f(x)$\n",
    "\n",
    "Definition\n",
    "\n",
    "1. Type of this PDE: parabolic\n",
    "\n",
    "\n",
    "2. Analytical solution\n",
    "3. Finite Difference Method in time and in space\n"
   ]
  },
  {
   "cell_type": "code",
   "execution_count": null,
   "id": "1a06c837-d4e9-460f-8de3-cb53c104ca12",
   "metadata": {},
   "outputs": [],
   "source": []
  }
 ],
 "metadata": {
  "kernelspec": {
   "display_name": "Python 3 (ipykernel)",
   "language": "python",
   "name": "python3"
  },
  "language_info": {
   "codemirror_mode": {
    "name": "ipython",
    "version": 3
   },
   "file_extension": ".py",
   "mimetype": "text/x-python",
   "name": "python",
   "nbconvert_exporter": "python",
   "pygments_lexer": "ipython3",
   "version": "3.11.4"
  }
 },
 "nbformat": 4,
 "nbformat_minor": 5
}
